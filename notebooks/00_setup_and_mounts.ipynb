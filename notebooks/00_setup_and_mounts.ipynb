{
 "cells": [
  {
   "cell_type": "code",
   "execution_count": 0,
   "metadata": {
    "application/vnd.databricks.v1+cell": {
     "cellMetadata": {
      "byteLimit": 2048000,
      "rowLimit": 10000
     },
     "inputWidgets": {},
     "nuid": "b5a53bb3-6006-43e2-828a-966d1df6e17d",
     "showTitle": false,
     "tableResultSettingsMap": {},
     "title": ""
    }
   },
   "outputs": [],
   "source": [
    "dbutils.secrets.listScopes()"
   ]
  },
  {
   "cell_type": "code",
   "execution_count": 0,
   "metadata": {
    "application/vnd.databricks.v1+cell": {
     "cellMetadata": {
      "byteLimit": 2048000,
      "rowLimit": 10000
     },
     "inputWidgets": {},
     "nuid": "20e73df5-3caa-4817-866e-73ae339c4e3d",
     "showTitle": false,
     "tableResultSettingsMap": {},
     "title": ""
    }
   },
   "outputs": [],
   "source": [
    "# --- Configuration ---\n",
    "# Key Vault & Secrets\n",
    "kv_scope_name = \"intuitive-scope\" \n",
    "client_id_key = \"service-principal-client-id\"\n",
    "client_secret_key = \"service-principal-client-secret\"\n",
    "tenant_id_key = \"service-principal-tenant-id\"\n",
    "\n",
    "# ADLS Configuration\n",
    "adls_account_name = \"intuitivedl\" \n",
    "adls_filesystem_raw = \"raw\"\n",
    "adls_filesystem_processed = \"processed\"\n",
    "adls_filesystem_presentation = \"presentation\"\n",
    "adls_mount_point_raw = f\"/mnt/intuitivedl/{adls_filesystem_raw}\"\n",
    "adls_mount_point_processed = f\"/mnt/intuitivedl/{adls_filesystem_processed}\"\n",
    "adls_mount_point_presentation = f\"/mnt/intuitivedl/{adls_filesystem_presentation}\""
   ]
  },
  {
   "cell_type": "code",
   "execution_count": 0,
   "metadata": {
    "application/vnd.databricks.v1+cell": {
     "cellMetadata": {
      "byteLimit": 2048000,
      "rowLimit": 10000
     },
     "inputWidgets": {},
     "nuid": "82488588-eb0a-4614-aead-d1c7e33156e3",
     "showTitle": false,
     "tableResultSettingsMap": {},
     "title": ""
    }
   },
   "outputs": [],
   "source": [
    "# DBFS Paths \n",
    "raw_path = adls_mount_point_raw\n",
    "processed_path = adls_mount_point_processed\n",
    "gold_path = adls_mount_point_presentation # Using 'gold' conceptually for presentation layer\n",
    "\n",
    "# --- Fetch Secrets ---\n",
    "try:\n",
    "    client_id = dbutils.secrets.get(scope=kv_scope_name, key=client_id_key)\n",
    "    client_secret = dbutils.secrets.get(scope=kv_scope_name, key=client_secret_key)\n",
    "    tenant_id = dbutils.secrets.get(scope=kv_scope_name, key=tenant_id_key)\n",
    "    print(\"Successfully retrieved secrets from Key Vault.\")\n",
    "except Exception as e:\n",
    "    print(f\"ERROR: Failed to retrieve secrets from Key Vault scope '{kv_scope_name}'. Check scope and key names.\")\n",
    "    print(e)"
   ]
  },
  {
   "cell_type": "code",
   "execution_count": 0,
   "metadata": {
    "application/vnd.databricks.v1+cell": {
     "cellMetadata": {
      "byteLimit": 2048000,
      "rowLimit": 10000
     },
     "inputWidgets": {},
     "nuid": "829a5f81-eec3-462f-ab95-93002ef733c9",
     "showTitle": false,
     "tableResultSettingsMap": {},
     "title": ""
    }
   },
   "outputs": [],
   "source": [
    "# --- Spark Configuration for ADLS using Service Principal ---\n",
    "configs = {\n",
    "\"fs.azure.account.auth.type\": \"OAuth\",\n",
    "\"fs.azure.account.oauth.provider.type\": \"org.apache.hadoop.fs.azurebfs.oauth2.ClientCredsTokenProvider\",\n",
    "\"fs.azure.account.oauth2.client.id\": client_id,\n",
    "\"fs.azure.account.oauth2.client.secret\": client_secret,\n",
    "\"fs.azure.account.oauth2.client.endpoint\": f\"https://login.microsoftonline.com/{tenant_id}/oauth2/token\"\n",
    "}\n",
    "print(\"Spark configuration set for ADLS access.\")"
   ]
  },
  {
   "cell_type": "code",
   "execution_count": 0,
   "metadata": {
    "application/vnd.databricks.v1+cell": {
     "cellMetadata": {
      "byteLimit": 2048000,
      "rowLimit": 10000
     },
     "inputWidgets": {},
     "nuid": "9058261f-bad3-4d3e-b547-1709ce61a104",
     "showTitle": false,
     "tableResultSettingsMap": {},
     "title": ""
    }
   },
   "outputs": [],
   "source": [
    "# --- Mount ADLS Containers ---\n",
    "def mount_adls(filesystem_name, mount_point):\n",
    "    adls_path = f\"abfss://{filesystem_name}@{adls_account_name}.dfs.core.windows.net/\"\n",
    "    print(f\"Attempting to mount {adls_path} to {mount_point}...\")\n",
    "\n",
    "    # Check if already mounted, unmount if necessary (makes it idempotent)\n",
    "    if any(mount.mountPoint == mount_point for mount in dbutils.fs.mounts()):\n",
    "        print(f\"Mount point {mount_point} already exists. Unmounting first...\")\n",
    "        try:\n",
    "            dbutils.fs.unmount(mount_point)\n",
    "            print(f\"Successfully unmounted {mount_point}.\")\n",
    "        except Exception as e:\n",
    "            # Unmount might fail if in use, log warning but proceed with mount attempt\n",
    "            print(f\"Warning: Failed to unmount {mount_point} (maybe in use?): {e}\")\n",
    "\n",
    "    # Mount the container\n",
    "    try:\n",
    "        dbutils.fs.mount(\n",
    "            source=adls_path,\n",
    "            mount_point=mount_point,\n",
    "            extra_configs=configs\n",
    "        )\n",
    "        print(f\"Successfully mounted {filesystem_name} to {mount_point}\")\n",
    "    except Exception as e:\n",
    "        # Check if the error is because it's already mounted by another process \n",
    "        if \"Directory already mounted\" in str(e):\n",
    "             print(f\"Mount point {mount_point} appears to be already mounted (possibly by another process). Assuming OK.\")\n",
    "        else:\n",
    "            print(f\"ERROR: Failed to mount {mount_point}: {e}\")\n",
    "            # dbutils.notebook.exit(f\"Mount failed for {mount_point}\") \n",
    "\n",
    "# Mount all zones\n",
    "mount_adls(adls_filesystem_raw, adls_mount_point_raw)\n",
    "mount_adls(adls_filesystem_processed, adls_mount_point_processed)\n",
    "mount_adls(adls_filesystem_presentation, adls_mount_point_presentation)\n",
    "\n",
    "# --- Verify Mounts ---\n",
    "print(\"\\nCurrent Mounts:\")\n",
    "display(dbutils.fs.mounts())"
   ]
  },
  {
   "cell_type": "code",
   "execution_count": 0,
   "metadata": {
    "application/vnd.databricks.v1+cell": {
     "cellMetadata": {
      "byteLimit": 2048000,
      "rowLimit": 10000
     },
     "inputWidgets": {},
     "nuid": "8a3bbdf3-aa79-4ae3-b003-0413c53a5060",
     "showTitle": false,
     "tableResultSettingsMap": {},
     "title": ""
    }
   },
   "outputs": [],
   "source": [
    "print(f\"\\nRaw Path: {raw_path}\")\n",
    "print(f\"Processed Path (Silver): {processed_path}\")\n",
    "print(f\"Presentation Path (Gold): {gold_path}\")"
   ]
  }
 ],
 "metadata": {
  "application/vnd.databricks.v1+notebook": {
   "computePreferences": null,
   "dashboards": [],
   "environmentMetadata": {
    "base_environment": "",
    "environment_version": "2"
   },
   "inputWidgetPreferences": null,
   "language": "python",
   "notebookMetadata": {
    "pythonIndentUnit": 4
   },
   "notebookName": "00_setup_and_mounts",
   "widgets": {}
  },
  "language_info": {
   "name": "python"
  }
 },
 "nbformat": 4,
 "nbformat_minor": 0
}
